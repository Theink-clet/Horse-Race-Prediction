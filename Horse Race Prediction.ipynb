{
 "cells": [
  {
   "cell_type": "markdown",
   "id": "e8601435",
   "metadata": {},
   "source": [
    "## Horse Racing Prediction Model\n",
    "\n",
    "### Purpose:\n",
    "#### There are 6 Horses in the race and the aim is to find the Horses that will come 1st, Second and Third in the race.\n",
    "#### Due to lack of data, we resort to number shuffling to determine our prediction. This process is reliable as it shuffles\n",
    "#### the numbers using the algorithm thereby returning the fastest horses in the race to the last."
   ]
  },
  {
   "cell_type": "code",
   "execution_count": 1,
   "id": "f8bf737c",
   "metadata": {},
   "outputs": [],
   "source": [
    "import random"
   ]
  },
  {
   "cell_type": "code",
   "execution_count": 2,
   "id": "e2ecf376",
   "metadata": {},
   "outputs": [],
   "source": [
    "HorseRace = list(range(7))"
   ]
  },
  {
   "cell_type": "code",
   "execution_count": 3,
   "id": "27120ff8",
   "metadata": {},
   "outputs": [
    {
     "data": {
      "text/plain": [
       "[0, 1, 2, 3, 4, 5, 6]"
      ]
     },
     "execution_count": 3,
     "metadata": {},
     "output_type": "execute_result"
    }
   ],
   "source": [
    "HorseRace"
   ]
  },
  {
   "cell_type": "code",
   "execution_count": 4,
   "id": "8e8e7884",
   "metadata": {},
   "outputs": [
    {
     "data": {
      "text/plain": [
       "['BPF',\n",
       " 'LOG4',\n",
       " 'NV_MAGICCONST',\n",
       " 'RECIP_BPF',\n",
       " 'Random',\n",
       " 'SG_MAGICCONST',\n",
       " 'SystemRandom',\n",
       " 'TWOPI',\n",
       " '_Sequence',\n",
       " '_Set',\n",
       " '__all__',\n",
       " '__builtins__',\n",
       " '__cached__',\n",
       " '__doc__',\n",
       " '__file__',\n",
       " '__loader__',\n",
       " '__name__',\n",
       " '__package__',\n",
       " '__spec__',\n",
       " '_accumulate',\n",
       " '_acos',\n",
       " '_bisect',\n",
       " '_ceil',\n",
       " '_cos',\n",
       " '_e',\n",
       " '_exp',\n",
       " '_floor',\n",
       " '_inst',\n",
       " '_log',\n",
       " '_os',\n",
       " '_pi',\n",
       " '_random',\n",
       " '_repeat',\n",
       " '_sha512',\n",
       " '_sin',\n",
       " '_sqrt',\n",
       " '_test',\n",
       " '_test_generator',\n",
       " '_urandom',\n",
       " '_warn',\n",
       " 'betavariate',\n",
       " 'choice',\n",
       " 'choices',\n",
       " 'expovariate',\n",
       " 'gammavariate',\n",
       " 'gauss',\n",
       " 'getrandbits',\n",
       " 'getstate',\n",
       " 'lognormvariate',\n",
       " 'normalvariate',\n",
       " 'paretovariate',\n",
       " 'randbytes',\n",
       " 'randint',\n",
       " 'random',\n",
       " 'randrange',\n",
       " 'sample',\n",
       " 'seed',\n",
       " 'setstate',\n",
       " 'shuffle',\n",
       " 'triangular',\n",
       " 'uniform',\n",
       " 'vonmisesvariate',\n",
       " 'weibullvariate']"
      ]
     },
     "execution_count": 4,
     "metadata": {},
     "output_type": "execute_result"
    }
   ],
   "source": [
    "dir(random)"
   ]
  },
  {
   "cell_type": "code",
   "execution_count": 5,
   "id": "cd8bb7b7",
   "metadata": {},
   "outputs": [],
   "source": [
    "HorseRace_6 = list(range(1,7))"
   ]
  },
  {
   "cell_type": "code",
   "execution_count": 6,
   "id": "e20e3456",
   "metadata": {},
   "outputs": [
    {
     "data": {
      "text/plain": [
       "[1, 2, 3, 4, 5, 6]"
      ]
     },
     "execution_count": 6,
     "metadata": {},
     "output_type": "execute_result"
    }
   ],
   "source": [
    "HorseRace_6"
   ]
  },
  {
   "cell_type": "code",
   "execution_count": 7,
   "id": "2c0c20ea",
   "metadata": {},
   "outputs": [],
   "source": [
    "Horse = []"
   ]
  },
  {
   "cell_type": "code",
   "execution_count": 8,
   "id": "c213fb04",
   "metadata": {},
   "outputs": [],
   "source": [
    "Race = [[] for i in range(6) ]"
   ]
  },
  {
   "cell_type": "code",
   "execution_count": 9,
   "id": "a2340e57",
   "metadata": {},
   "outputs": [],
   "source": [
    "random.shuffle(HorseRace_6)"
   ]
  },
  {
   "cell_type": "code",
   "execution_count": 10,
   "id": "288eafa2",
   "metadata": {},
   "outputs": [
    {
     "data": {
      "text/plain": [
       "[[], [], [], [], [], []]"
      ]
     },
     "execution_count": 10,
     "metadata": {},
     "output_type": "execute_result"
    }
   ],
   "source": [
    "Race"
   ]
  },
  {
   "cell_type": "code",
   "execution_count": 11,
   "id": "62a504ba",
   "metadata": {},
   "outputs": [],
   "source": [
    "for i in range (6):\n",
    "    for j in range (6):\n",
    "        try:\n",
    "            Race[j].append(HorseRace_6.pop())\n",
    "        except IndexError:\n",
    "            pass"
   ]
  },
  {
   "cell_type": "code",
   "execution_count": 12,
   "id": "2a9c63cc",
   "metadata": {},
   "outputs": [
    {
     "data": {
      "text/plain": [
       "[[6], [3], [5], [4], [2], [1]]"
      ]
     },
     "execution_count": 12,
     "metadata": {},
     "output_type": "execute_result"
    }
   ],
   "source": [
    "Race"
   ]
  },
  {
   "cell_type": "code",
   "execution_count": 13,
   "id": "49eb1219",
   "metadata": {},
   "outputs": [
    {
     "name": "stdout",
     "output_type": "stream",
     "text": [
      "[6]\n",
      "[3]\n",
      "[5]\n",
      "[4]\n",
      "[2]\n",
      "[1]\n"
     ]
    }
   ],
   "source": [
    "for Horses in Race:\n",
    "    print(Horses)"
   ]
  },
  {
   "cell_type": "markdown",
   "id": "c84dbed9",
   "metadata": {},
   "source": [
    "#### This result shows Horse 6 = first Horse 3 = Second, Horse 5 = Third"
   ]
  },
  {
   "cell_type": "code",
   "execution_count": null,
   "id": "9d67806e",
   "metadata": {},
   "outputs": [],
   "source": []
  }
 ],
 "metadata": {
  "kernelspec": {
   "display_name": "Python 3 (ipykernel)",
   "language": "python",
   "name": "python3"
  },
  "language_info": {
   "codemirror_mode": {
    "name": "ipython",
    "version": 3
   },
   "file_extension": ".py",
   "mimetype": "text/x-python",
   "name": "python",
   "nbconvert_exporter": "python",
   "pygments_lexer": "ipython3",
   "version": "3.9.13"
  }
 },
 "nbformat": 4,
 "nbformat_minor": 5
}
